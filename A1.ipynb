{
 "cells": [
  {
   "cell_type": "markdown",
   "metadata": {},
   "source": [
    "# Task One\n"
   ]
  },
  {
   "cell_type": "code",
   "execution_count": 3,
   "metadata": {},
   "outputs": [
    {
     "name": "stdout",
     "output_type": "stream",
     "text": [
      "Enter Your Number: 5\n",
      "5.0\n"
     ]
    }
   ],
   "source": [
    "a = float(input(\"Enter Your Number: \"))\n",
    "print(a)"
   ]
  },
  {
   "cell_type": "markdown",
   "metadata": {},
   "source": [
    "# Task Two"
   ]
  },
  {
   "cell_type": "code",
   "execution_count": 4,
   "metadata": {},
   "outputs": [
    {
     "name": "stdout",
     "output_type": "stream",
     "text": [
      "Enter Your NUmber1: 5\n",
      "ENter Your Number2: 5\n",
      "Sum is:  10.0\n",
      "Product is:  25.0\n",
      "Difference is:  0.0\n"
     ]
    }
   ],
   "source": [
    "a = float(input(\"Enter Your NUmber1: \"))\n",
    "b = float(input(\"ENter Your Number2: \"))\n",
    "sum = a+b\n",
    "print(\"Sum is: \", sum)\n",
    "product = a*b\n",
    "print(\"Product is: \", product)\n",
    "difference = a - b\n",
    "print(\"Difference is: \", difference)"
   ]
  },
  {
   "cell_type": "markdown",
   "metadata": {},
   "source": [
    "# Task Three"
   ]
  },
  {
   "cell_type": "code",
   "execution_count": 11,
   "metadata": {},
   "outputs": [
    {
     "name": "stdout",
     "output_type": "stream",
     "text": [
      "ENter Your Radius: 5\n",
      "circumference is:  31.416\n",
      "Area is: 3100.65\n"
     ]
    }
   ],
   "source": [
    "radius = float(input(\"ENter Your Radius: \"))\n",
    "circumference = 2*3.1416*radius\n",
    "print(\"circumference is: \", circumference)\n",
    "area = 3.1416*(circumference*circumference)\n",
    "print(\"Area is: %1.2f\" %(area))"
   ]
  },
  {
   "cell_type": "markdown",
   "metadata": {},
   "source": [
    "# Task Four"
   ]
  },
  {
   "cell_type": "code",
   "execution_count": 12,
   "metadata": {},
   "outputs": [
    {
     "name": "stdout",
     "output_type": "stream",
     "text": [
      "Enter Your First Number: 10\n",
      "ENter your second number: 12\n",
      "num1 is not greater\n"
     ]
    }
   ],
   "source": [
    "num1 = float(input(\"Enter Your First Number: \"))\n",
    "num2= float(input(\"ENter your second number: \"))\n",
    "if(num1>num2):\n",
    "    print(\"num1 is greater\")\n",
    "else:\n",
    "    print(\"num1 is not greater\")"
   ]
  },
  {
   "cell_type": "markdown",
   "metadata": {},
   "source": [
    "# Task Five"
   ]
  },
  {
   "cell_type": "code",
   "execution_count": 13,
   "metadata": {},
   "outputs": [
    {
     "name": "stdout",
     "output_type": "stream",
     "text": [
      "Enter Your First Number: 10\n",
      "ENter your second number: 10\n",
      "Both Are equal\n"
     ]
    }
   ],
   "source": [
    "num1 = float(input(\"Enter Your First Number: \"))\n",
    "num2= float(input(\"ENter your second number: \"))\n",
    "if(num1>num2):\n",
    "    print(\"num1 is greater:\")\n",
    "elif(num2>num1):\n",
    "    print(\"num2 is greater\")\n",
    "else:\n",
    "    print(\"Both Are equal\")"
   ]
  },
  {
   "cell_type": "markdown",
   "metadata": {},
   "source": [
    "# Task six"
   ]
  },
  {
   "cell_type": "code",
   "execution_count": 15,
   "metadata": {},
   "outputs": [
    {
     "name": "stdout",
     "output_type": "stream",
     "text": [
      "Enter Your First Number: 12\n",
      "ENter your second number: 10\n",
      "num1 is greater:  2.0\n"
     ]
    }
   ],
   "source": [
    "num1 = float(input(\"Enter Your First Number: \"))\n",
    "num2= float(input(\"ENter your second number: \"))\n",
    "if(num1>num2):\n",
    "    sub = num1-num2\n",
    "    print(\"num1 is greater: \", sub)\n",
    "else:\n",
    "    sub = num2-num1\n",
    "    print(\"num2 is greater: \", sub)"
   ]
  },
  {
   "cell_type": "markdown",
   "metadata": {},
   "source": [
    "# Task seven"
   ]
  },
  {
   "cell_type": "code",
   "execution_count": 16,
   "metadata": {},
   "outputs": [
    {
     "name": "stdout",
     "output_type": "stream",
     "text": [
      "Enter Your First Number: 10\n",
      "Numer is even\n"
     ]
    }
   ],
   "source": [
    "num1 = float(input(\"Enter Your First Number: \"))\n",
    "if(num1%2==0):\n",
    "    print(\"Numer is even\")\n",
    "else:\n",
    "    print(\"Number is odd\")"
   ]
  },
  {
   "cell_type": "markdown",
   "metadata": {},
   "source": [
    "# Task Eleven"
   ]
  },
  {
   "cell_type": "code",
   "execution_count": 24,
   "metadata": {},
   "outputs": [
    {
     "name": "stdout",
     "output_type": "stream",
     "text": [
      "Enter number :10\n",
      "Enter number :20\n",
      "Enter number :30\n",
      "Enter number :40\n",
      "Enter number :50\n",
      "Average is:  30.0\n"
     ]
    }
   ],
   "source": [
    "sum = 0\n",
    "for i in range(0,5):\n",
    "    a = int(input(\"Enter number :\"))\n",
    "    sum = sum+a\n",
    "avg = sum/5\n",
    "print(\"Average is: \", avg)"
   ]
  },
  {
   "cell_type": "code",
   "execution_count": 25,
   "metadata": {},
   "outputs": [
    {
     "name": "stdout",
     "output_type": "stream",
     "text": [
      "Summation of first 100 is:  4950\n"
     ]
    }
   ],
   "source": [
    "sum = 0\n",
    "for i in range(0,100):\n",
    "    sum = sum+i\n",
    "print(\"Summation of first 100 is: \", sum)"
   ]
  },
  {
   "cell_type": "code",
   "execution_count": 2,
   "metadata": {},
   "outputs": [
    {
     "name": "stdout",
     "output_type": "stream",
     "text": [
      "Enter Your Number: 10\n",
      "Enter Your Number: 25\n",
      "Enter Your Number: 30\n",
      "Enter Your Number: 33\n",
      "Enter Your Number: 47\n",
      "Number is odd: 47.00\n"
     ]
    }
   ],
   "source": [
    "for i in range(0,5):\n",
    "    num = float(input(\"Enter Your Number: \"))\n",
    "      if(num%2==0):\n",
    "        print(\"Number is even: %1.2f\" %(num))\n",
    "    else:\n",
    "        print(\"Number is odd: %1.2f\" %(num))"
   ]
  },
  {
   "cell_type": "markdown",
   "metadata": {},
   "source": [
    "# Task Nine"
   ]
  },
  {
   "cell_type": "code",
   "execution_count": 3,
   "metadata": {},
   "outputs": [
    {
     "name": "stdout",
     "output_type": "stream",
     "text": [
      "0\n",
      "2\n",
      "4\n",
      "6\n",
      "8\n",
      "10\n"
     ]
    }
   ],
   "source": [
    "for i in range(0,12,2):\n",
    "    print(i)"
   ]
  },
  {
   "cell_type": "code",
   "execution_count": 4,
   "metadata": {},
   "outputs": [
    {
     "data": {
      "text/plain": [
       "'E:\\\\Phython Practice'"
      ]
     },
     "execution_count": 4,
     "metadata": {},
     "output_type": "execute_result"
    }
   ],
   "source": [
    "pwd"
   ]
  },
  {
   "cell_type": "code",
   "execution_count": null,
   "metadata": {},
   "outputs": [],
   "source": []
  }
 ],
 "metadata": {
  "kernelspec": {
   "display_name": "Python 3",
   "language": "python",
   "name": "python3"
  },
  "language_info": {
   "codemirror_mode": {
    "name": "ipython",
    "version": 3
   },
   "file_extension": ".py",
   "mimetype": "text/x-python",
   "name": "python",
   "nbconvert_exporter": "python",
   "pygments_lexer": "ipython3",
   "version": "3.7.1"
  }
 },
 "nbformat": 4,
 "nbformat_minor": 2
}
